{
 "cells": [
  {
   "cell_type": "markdown",
   "id": "cfaeb939",
   "metadata": {},
   "source": [
    "# Safari Edits and Editors\n",
    "\n",
    "From [T292103](https://phabricator.wikimedia.org/T292103)\n",
    "\n",
    "**Editors:** Of the unique non-bot editors who have published at least one successful edit in the past 90 days, what percentages of them have published at least one with Safari on mobile? With Safari on desktop? \n",
    "\n",
    "**Edits:** Of the successful non-bot edits that have been made in the past 90 days, what percentage of them were made with Safari on mobile? With Safari on desktop? \n",
    "\n",
    "We'd like both of these grouped by wiki project (e.g. English Wikipedia, Indonesian Wikisource, Commons, etc…), country (e.g. United States, Indonesia, etc…), and user tenure bucket (e.g. less than 1 day, 1–7 days, etc…)."
   ]
  },
  {
   "cell_type": "code",
   "execution_count": 38,
   "id": "0c5cff0b",
   "metadata": {},
   "outputs": [],
   "source": [
    "import os\n",
    "import re\n",
    "import json\n",
    "import datetime as dt\n",
    "\n",
    "import numpy as np\n",
    "import pandas as pd\n",
    "import wmfdata\n",
    "\n",
    "from wmfdata import hive, spark, mariadb, presto\n",
    "\n",
    "import ipaddress\n",
    "\n",
    "import findspark"
   ]
  },
  {
   "cell_type": "code",
   "execution_count": 5,
   "id": "71b4c319",
   "metadata": {},
   "outputs": [],
   "source": [
    "SPARK_HOME = os.environ.get(\"SPARK_HOME\", \"/usr/lib/spark2\")\n",
    "findspark.init(SPARK_HOME)\n",
    "from pyspark.sql import functions as F, types as T, Window"
   ]
  },
  {
   "cell_type": "code",
   "execution_count": 6,
   "id": "ac5a0665",
   "metadata": {},
   "outputs": [
    {
     "name": "stderr",
     "output_type": "stream",
     "text": [
      "PySpark executors will use /usr/lib/anaconda-wmf/bin/python3.\n"
     ]
    }
   ],
   "source": [
    "spark_session = spark.get_session(type=\"yarn-large\")"
   ]
  },
  {
   "cell_type": "markdown",
   "id": "ab95d4dd",
   "metadata": {},
   "source": [
    "## EditAttemptStep Queries"
   ]
  },
  {
   "cell_type": "markdown",
   "id": "aeda9fae",
   "metadata": {},
   "source": [
    "We'd like to count the number of unique registered editors, number of unique IP editors, number of edits, and also count those using Safari, and distinguish between desktop and mobile.\n",
    "\n",
    "It's easier to think about this from a per-user perspective. For each user, how many edits did they make, how many were on Safari, how many were on desktop Safari, how many were on mobile Safari?\n",
    "\n",
    "We'll for now ignore the country and user tenur bucket parts of this analysis."
   ]
  },
  {
   "cell_type": "code",
   "execution_count": 32,
   "id": "d1c23892",
   "metadata": {},
   "outputs": [
    {
     "data": {
      "text/html": [
       "<div>\n",
       "<style scoped>\n",
       "    .dataframe tbody tr th:only-of-type {\n",
       "        vertical-align: middle;\n",
       "    }\n",
       "\n",
       "    .dataframe tbody tr th {\n",
       "        vertical-align: top;\n",
       "    }\n",
       "\n",
       "    .dataframe thead th {\n",
       "        text-align: right;\n",
       "    }\n",
       "</style>\n",
       "<table border=\"1\" class=\"dataframe\">\n",
       "  <thead>\n",
       "    <tr style=\"text-align: right;\">\n",
       "      <th></th>\n",
       "      <th>_col0</th>\n",
       "    </tr>\n",
       "  </thead>\n",
       "  <tbody>\n",
       "    <tr>\n",
       "      <th>0</th>\n",
       "      <td>Linux</td>\n",
       "    </tr>\n",
       "    <tr>\n",
       "      <th>1</th>\n",
       "      <td>Android</td>\n",
       "    </tr>\n",
       "    <tr>\n",
       "      <th>2</th>\n",
       "      <td>Windows</td>\n",
       "    </tr>\n",
       "    <tr>\n",
       "      <th>3</th>\n",
       "      <td>Fedora</td>\n",
       "    </tr>\n",
       "    <tr>\n",
       "      <th>4</th>\n",
       "      <td>FreeBSD</td>\n",
       "    </tr>\n",
       "    <tr>\n",
       "      <th>5</th>\n",
       "      <td>Mac OS X</td>\n",
       "    </tr>\n",
       "    <tr>\n",
       "      <th>6</th>\n",
       "      <td>Other</td>\n",
       "    </tr>\n",
       "    <tr>\n",
       "      <th>7</th>\n",
       "      <td>iOS</td>\n",
       "    </tr>\n",
       "  </tbody>\n",
       "</table>\n",
       "</div>"
      ],
      "text/plain": [
       "      _col0\n",
       "0     Linux\n",
       "1   Android\n",
       "2   Windows\n",
       "3    Fedora\n",
       "4   FreeBSD\n",
       "5  Mac OS X\n",
       "6     Other\n",
       "7       iOS"
      ]
     },
     "execution_count": 32,
     "metadata": {},
     "output_type": "execute_result"
    }
   ],
   "source": [
    "presto.run('''\n",
    "SELECT\n",
    "    DISTINCT user_agent_map['os_family']\n",
    "FROM event.editattemptstep\n",
    "WHERE event.action = 'saveSuccess'\n",
    "AND event.is_oversample = false -- Only use sampled events\n",
    "AND regexp_like(user_agent_map['browser_family'], 'Safari')\n",
    "''')"
   ]
  },
  {
   "cell_type": "code",
   "execution_count": 92,
   "id": "9d300669",
   "metadata": {},
   "outputs": [
    {
     "data": {
      "text/html": [
       "<div>\n",
       "<style scoped>\n",
       "    .dataframe tbody tr th:only-of-type {\n",
       "        vertical-align: middle;\n",
       "    }\n",
       "\n",
       "    .dataframe tbody tr th {\n",
       "        vertical-align: top;\n",
       "    }\n",
       "\n",
       "    .dataframe thead th {\n",
       "        text-align: right;\n",
       "    }\n",
       "</style>\n",
       "<table border=\"1\" class=\"dataframe\">\n",
       "  <thead>\n",
       "    <tr style=\"text-align: right;\">\n",
       "      <th></th>\n",
       "      <th>_col0</th>\n",
       "    </tr>\n",
       "  </thead>\n",
       "  <tbody>\n",
       "    <tr>\n",
       "      <th>0</th>\n",
       "      <td>Mobile Safari UI/WKWebView</td>\n",
       "    </tr>\n",
       "    <tr>\n",
       "      <th>1</th>\n",
       "      <td>Mobile Safari</td>\n",
       "    </tr>\n",
       "    <tr>\n",
       "      <th>2</th>\n",
       "      <td>Safari</td>\n",
       "    </tr>\n",
       "  </tbody>\n",
       "</table>\n",
       "</div>"
      ],
      "text/plain": [
       "                        _col0\n",
       "0  Mobile Safari UI/WKWebView\n",
       "1               Mobile Safari\n",
       "2                      Safari"
      ]
     },
     "execution_count": 92,
     "metadata": {},
     "output_type": "execute_result"
    }
   ],
   "source": [
    "presto.run('''\n",
    "SELECT\n",
    "    DISTINCT user_agent_map['browser_family']\n",
    "FROM event.editattemptstep\n",
    "WHERE event.action = 'saveSuccess'\n",
    "AND event.is_oversample = false -- Only use sampled events\n",
    "AND regexp_like(user_agent_map['browser_family'], 'Safari')\n",
    "''')"
   ]
  },
  {
   "cell_type": "markdown",
   "id": "60ca6bb8",
   "metadata": {},
   "source": [
    "These who do not identify as Mac OS X or iOS is why we'll have to limit the count of \"Safari editors\" to those editing on two specific OSes."
   ]
  },
  {
   "cell_type": "code",
   "execution_count": 55,
   "id": "4ecbdbaa",
   "metadata": {},
   "outputs": [],
   "source": [
    "edits_editors_query = '''\n",
    "WITH reg_editors AS (\n",
    "    SELECT\n",
    "        wiki,\n",
    "        event.user_id,\n",
    "        COUNT(1) AS num_edits,\n",
    "        COUNT(IF(regexp_like(user_agent_map['browser_family'],'Safari')\n",
    "                 AND user_agent_map['os_family'] IN ('Mac OS X', 'iOS'), 1, NULL)) AS num_safari_edits,\n",
    "        COUNT(IF(regexp_like(user_agent_map['browser_family'],'Safari')\n",
    "                 AND user_agent_map['os_family'] = 'Mac OS X', 1, NULL)) AS num_safari_macos_edits,\n",
    "        COUNT(IF(regexp_like(user_agent_map['browser_family'],'Safari')\n",
    "                 AND user_agent_map['os_family'] = 'iOS', 1, NULL)) AS num_safari_ios_edits\n",
    "    FROM event.editattemptstep\n",
    "    WHERE event.action = 'saveSuccess'\n",
    "    AND event.is_oversample = false -- Only use sampled events\n",
    "    AND event.user_id != 0 -- No IP edits\n",
    "    AND event.user_class IS NULL -- Set to \"bot\" if a bot user\n",
    "    GROUP BY wiki, event.user_id\n",
    "),\n",
    "ip_editors AS (\n",
    "    SELECT\n",
    "        wiki,\n",
    "        event.anonymous_user_token,\n",
    "        COUNT(1) AS num_edits,\n",
    "        COUNT(IF(regexp_like(user_agent_map['browser_family'],'Safari')\n",
    "                 AND user_agent_map['os_family'] IN ('Mac OS X', 'iOS'), 1, NULL)) AS num_safari_edits,\n",
    "        COUNT(IF(regexp_like(user_agent_map['browser_family'],'Safari')\n",
    "                 AND user_agent_map['os_family'] = 'Mac OS X', 1, NULL)) AS num_safari_macos_edits,\n",
    "        COUNT(IF(regexp_like(user_agent_map['browser_family'],'Safari')\n",
    "                 AND user_agent_map['os_family'] = 'iOS', 1, NULL)) AS num_safari_ios_edits\n",
    "    FROM event.editattemptstep\n",
    "    WHERE event.action = 'saveSuccess'\n",
    "    AND event.is_oversample = false -- Only use sampled events\n",
    "    AND event.user_id = 0 -- Only IP edits\n",
    "    GROUP BY wiki, event.anonymous_user_token\n",
    "),\n",
    "reg_agg AS (\n",
    "    SELECT\n",
    "        'registered' AS editor_class,\n",
    "        COUNT(1) AS num_editors,\n",
    "        COUNT(IF(num_safari_edits > 0, 1, NULL)) AS num_safari_editors,\n",
    "        COUNT(IF(num_safari_macos_edits > 0\n",
    "              AND num_safari_ios_edits = 0, 1, NULL)) AS num_safari_macos_editors,\n",
    "        COUNT(IF(num_safari_ios_edits > 0\n",
    "              AND num_safari_macos_edits = 0, 1, NULL)) AS num_safari_ios_editors,\n",
    "        COUNT(IF(num_safari_ios_edits > 0\n",
    "              AND num_safari_macos_edits > 0, 1, NULL)) AS num_safari_both_editors,\n",
    "        SUM(num_edits) AS num_edits,\n",
    "        SUM(num_safari_edits) AS num_safari_edits,\n",
    "        SUM(num_safari_macos_edits) AS num_safari_macos_edits,\n",
    "        SUM(num_safari_ios_edits) AS num_safari_ios_edits\n",
    "    FROM reg_editors\n",
    "),\n",
    "ip_agg AS (\n",
    "    SELECT\n",
    "        'IP' AS editor_class,\n",
    "        COUNT(1) AS num_editors,\n",
    "        COUNT(IF(num_safari_edits > 0, 1, NULL)) AS num_safari_editors,\n",
    "        COUNT(IF(num_safari_macos_edits > 0\n",
    "              AND num_safari_ios_edits = 0, 1, NULL)) AS num_safari_macos_editors,\n",
    "        COUNT(IF(num_safari_ios_edits > 0\n",
    "              AND num_safari_macos_edits = 0, 1, NULL)) AS num_safari_ios_editors,\n",
    "        COUNT(IF(num_safari_ios_edits > 0\n",
    "              AND num_safari_macos_edits > 0, 1, NULL)) AS num_safari_both_editors,\n",
    "        SUM(num_edits) AS num_edits,\n",
    "        SUM(num_safari_edits) AS num_safari_edits,\n",
    "        SUM(num_safari_macos_edits) AS num_safari_macos_edits,\n",
    "        SUM(num_safari_ios_edits) AS num_safari_ios_edits\n",
    "    FROM ip_editors\n",
    ")\n",
    "SELECT\n",
    "    *\n",
    "FROM reg_agg\n",
    "UNION ALL\n",
    "SELECT\n",
    "    *\n",
    "FROM ip_agg\n",
    "'''"
   ]
  },
  {
   "cell_type": "code",
   "execution_count": 56,
   "id": "8194095e",
   "metadata": {},
   "outputs": [],
   "source": [
    "edits_data = presto.run(edits_editors_query)"
   ]
  },
  {
   "cell_type": "code",
   "execution_count": null,
   "id": "1f79ea63",
   "metadata": {},
   "outputs": [],
   "source": [
    "edits_data"
   ]
  },
  {
   "cell_type": "code",
   "execution_count": 58,
   "id": "91339c55",
   "metadata": {},
   "outputs": [],
   "source": [
    "edits_data.to_csv('overall_editors_edits_safari.csv')"
   ]
  },
  {
   "cell_type": "code",
   "execution_count": 75,
   "id": "e1ee8f46",
   "metadata": {},
   "outputs": [],
   "source": [
    "wiki_edits_editors_query = '''\n",
    "WITH reg_editors AS (\n",
    "    SELECT\n",
    "        wiki,\n",
    "        event.user_id,\n",
    "        COUNT(1) AS num_edits,\n",
    "        COUNT(IF(regexp_like(user_agent_map['browser_family'],'Safari')\n",
    "                 AND user_agent_map['os_family'] IN ('Mac OS X', 'iOS'), 1, NULL)) AS num_safari_edits,\n",
    "        COUNT(IF(regexp_like(user_agent_map['browser_family'],'Safari')\n",
    "                 AND user_agent_map['os_family'] = 'Mac OS X', 1, NULL)) AS num_safari_macos_edits,\n",
    "        COUNT(IF(regexp_like(user_agent_map['browser_family'],'Safari')\n",
    "                 AND user_agent_map['os_family'] = 'iOS', 1, NULL)) AS num_safari_ios_edits\n",
    "    FROM event.editattemptstep\n",
    "    WHERE event.action = 'saveSuccess'\n",
    "    AND event.is_oversample = false -- Only use sampled events\n",
    "    AND event.user_id != 0 -- No IP edits\n",
    "    AND event.user_class IS NULL -- Set to \"bot\" if a bot user\n",
    "    GROUP BY wiki, event.user_id\n",
    "),\n",
    "ip_editors AS (\n",
    "    SELECT\n",
    "        wiki,\n",
    "        event.anonymous_user_token,\n",
    "        COUNT(1) AS num_edits,\n",
    "        COUNT(IF(regexp_like(user_agent_map['browser_family'],'Safari')\n",
    "                 AND user_agent_map['os_family'] IN ('Mac OS X', 'iOS'), 1, NULL)) AS num_safari_edits,\n",
    "        COUNT(IF(regexp_like(user_agent_map['browser_family'],'Safari')\n",
    "                 AND user_agent_map['os_family'] = 'Mac OS X', 1, NULL)) AS num_safari_macos_edits,\n",
    "        COUNT(IF(regexp_like(user_agent_map['browser_family'],'Safari')\n",
    "                 AND user_agent_map['os_family'] = 'iOS', 1, NULL)) AS num_safari_ios_edits\n",
    "    FROM event.editattemptstep\n",
    "    WHERE event.action = 'saveSuccess'\n",
    "    AND event.is_oversample = false -- Only use sampled events\n",
    "    AND event.user_id = 0 -- Only IP edits\n",
    "    GROUP BY wiki, event.anonymous_user_token\n",
    "),\n",
    "reg_agg AS (\n",
    "    SELECT\n",
    "        wiki,\n",
    "        'registered' AS editor_class,\n",
    "        COUNT(1) AS num_editors,\n",
    "        COUNT(IF(num_safari_edits > 0, 1, NULL)) AS num_safari_editors,\n",
    "        COUNT(IF(num_safari_macos_edits > 0\n",
    "              AND num_safari_ios_edits = 0, 1, NULL)) AS num_safari_macos_editors,\n",
    "        COUNT(IF(num_safari_ios_edits > 0\n",
    "              AND num_safari_macos_edits = 0, 1, NULL)) AS num_safari_ios_editors,\n",
    "        COUNT(IF(num_safari_ios_edits > 0\n",
    "              AND num_safari_macos_edits > 0, 1, NULL)) AS num_safari_both_editors,\n",
    "        SUM(num_edits) AS num_edits,\n",
    "        SUM(num_safari_edits) AS num_safari_edits,\n",
    "        SUM(num_safari_macos_edits) AS num_safari_macos_edits,\n",
    "        SUM(num_safari_ios_edits) AS num_safari_ios_edits\n",
    "    FROM reg_editors\n",
    "    GROUP BY wiki\n",
    "),\n",
    "ip_agg AS (\n",
    "    SELECT\n",
    "        wiki,\n",
    "        'IP' AS editor_class,\n",
    "        COUNT(1) AS num_editors,\n",
    "        COUNT(IF(num_safari_edits > 0, 1, NULL)) AS num_safari_editors,\n",
    "        COUNT(IF(num_safari_macos_edits > 0\n",
    "              AND num_safari_ios_edits = 0, 1, NULL)) AS num_safari_macos_editors,\n",
    "        COUNT(IF(num_safari_ios_edits > 0\n",
    "              AND num_safari_macos_edits = 0, 1, NULL)) AS num_safari_ios_editors,\n",
    "        COUNT(IF(num_safari_ios_edits > 0\n",
    "              AND num_safari_macos_edits > 0, 1, NULL)) AS num_safari_both_editors,\n",
    "        SUM(num_edits) AS num_edits,\n",
    "        SUM(num_safari_edits) AS num_safari_edits,\n",
    "        SUM(num_safari_macos_edits) AS num_safari_macos_edits,\n",
    "        SUM(num_safari_ios_edits) AS num_safari_ios_edits\n",
    "    FROM ip_editors\n",
    "    GROUP BY wiki\n",
    "),\n",
    "wiki_names AS (\n",
    "    SELECT\n",
    "        database_code AS wiki,\n",
    "        database_group AS project_group,\n",
    "        english_name\n",
    "    FROM canonical_data.wikis\n",
    "),\n",
    "aggs AS (\n",
    "    SELECT\n",
    "        *\n",
    "    FROM reg_agg\n",
    "    UNION ALL\n",
    "    SELECT\n",
    "        *\n",
    "    FROM ip_agg\n",
    ")\n",
    "SELECT\n",
    "    aggs.*,\n",
    "    wiki_names.project_group,\n",
    "    wiki_names.english_name\n",
    "FROM aggs\n",
    "JOIN wiki_names\n",
    "ON aggs.wiki = wiki_names.wiki\n",
    "'''"
   ]
  },
  {
   "cell_type": "code",
   "execution_count": 76,
   "id": "d36e3dd4",
   "metadata": {},
   "outputs": [],
   "source": [
    "wiki_edits_data = presto.run(wiki_edits_editors_query)"
   ]
  },
  {
   "cell_type": "code",
   "execution_count": null,
   "id": "9fd786ac",
   "metadata": {},
   "outputs": [],
   "source": [
    "wiki_edits_data.loc[wiki_edits_data['wiki'] == 'nowiki']"
   ]
  },
  {
   "cell_type": "code",
   "execution_count": 78,
   "id": "f20f1ca3",
   "metadata": {},
   "outputs": [],
   "source": [
    "wiki_edits_data.to_csv('wiki_editors_edits_safari.csv')"
   ]
  },
  {
   "cell_type": "markdown",
   "id": "d62b4f53",
   "metadata": {},
   "source": [
    "## Investigating the Anonymous User Token\n",
    "\n",
    "When is it available, when isn't it?"
   ]
  },
  {
   "cell_type": "code",
   "execution_count": 79,
   "id": "28e667d8",
   "metadata": {},
   "outputs": [],
   "source": [
    "token_query = '''\n",
    "SELECT\n",
    "    wiki,\n",
    "    COUNT(1) AS num_edits,\n",
    "    COUNT(event.anonymous_user_token) AS num_token_not_null\n",
    "FROM event.editattemptstep\n",
    "WHERE event.action = 'saveSuccess'\n",
    "AND event.is_oversample = false -- Only use sampled events\n",
    "AND event.user_id = 0 -- Only IP edits\n",
    "GROUP BY wiki\n",
    "'''"
   ]
  },
  {
   "cell_type": "code",
   "execution_count": 80,
   "id": "60bfc750",
   "metadata": {},
   "outputs": [],
   "source": [
    "token_data = presto.run(token_query)"
   ]
  },
  {
   "cell_type": "code",
   "execution_count": 82,
   "id": "2b7a50dc",
   "metadata": {},
   "outputs": [],
   "source": [
    "token_data['percent_not_null'] = 100.0 * token_data['num_token_not_null'] / token_data['num_edits']"
   ]
  },
  {
   "cell_type": "code",
   "execution_count": null,
   "id": "93f40b75",
   "metadata": {},
   "outputs": [],
   "source": [
    "token_data.sort_values('percent_not_null', ascending = False).head(25)"
   ]
  },
  {
   "cell_type": "markdown",
   "id": "d0128442",
   "metadata": {},
   "source": [
    "Well, it's clear that this token isn't reliable at all. That's because it's only set for IP users who are part of the VE mobile default A/B test, ref [T225209](https://phabricator.wikimedia.org/T225209).\n",
    "\n",
    "\n",
    "What other options do we have? Can we query `wmf_raw.mediawiki_private_cu_changes` and combine it with revision data to identify IP edits?\n",
    "\n",
    "`cuc_this_oldid` reflects the revision ID. We'll join this with `wmf_raw.mediawiki_revision`. We then need to join `rev_actor` with `actor_id` in `wmf_raw.mediawiki_private_actor`. `actor_user` should be `NULL` for IP edits, and `actor_name` is then the IP address of the user. We should be able to join `cuc_ip` with `actor_name` as well, since both should be the IP address.\n",
    "\n",
    "`cu_changes` only contains data from the given month. This means that we only have data for August 2021.\n",
    "\n",
    "Note: `cuc_user` and `cuc_user_text` probably gives us this for free, so there's not a need to pull in data from `actor` and `revision`. Particularly being able to skip `revision` means we're sifting through a lot less data, but that'll have to be for next time."
   ]
  },
  {
   "cell_type": "code",
   "execution_count": 120,
   "id": "32ffb414",
   "metadata": {},
   "outputs": [],
   "source": [
    "ip_editors_query = '''\n",
    "ADD JAR hdfs:///wmf/refinery/current/artifacts/refinery-hive-shaded.jar;\n",
    "CREATE TEMPORARY FUNCTION ua AS 'org.wikimedia.analytics.refinery.hive.GetUAPropertiesUDF';\n",
    "\n",
    "WITH ip_edits AS (\n",
    "    SELECT\n",
    "        rev.wiki_db,\n",
    "        rev_id,\n",
    "        rev_timestamp,\n",
    "        actor_name\n",
    "    FROM wmf_raw.mediawiki_revision AS rev\n",
    "    JOIN wmf_raw.mediawiki_private_actor AS act\n",
    "    ON rev.wiki_db = act.wiki_db\n",
    "    AND rev.rev_actor = act.actor_id\n",
    "    WHERE rev.snapshot = \"2021-08\"\n",
    "    AND act.snapshot = \"2021-08\"\n",
    "    AND rev_timestamp >= \"20210801000000\"\n",
    "    AND rev_timestamp < \"20210901000000\"\n",
    "    AND act.actor_user IS NULL\n",
    "),\n",
    "safari_edits AS (\n",
    "    SELECT\n",
    "        wiki_db,\n",
    "        cuc_this_oldid,\n",
    "        cuc_ip,\n",
    "        ua(cuc_agent)['os_family'] AS os_family\n",
    "    FROM wmf_raw.mediawiki_private_cu_changes\n",
    "    WHERE month = \"2021-08\"\n",
    "    AND ua(cuc_agent)['browser_family'] REGEXP \"Safari\"\n",
    "),\n",
    "ip_editors AS (\n",
    "    SELECT\n",
    "        ip_edits.wiki_db,\n",
    "        ip_edits.actor_name,\n",
    "        COUNT(1) AS num_edits,\n",
    "        COUNT(IF(safari_edits.os_family IS NOT NULL\n",
    "                 AND safari_edits.os_family IN ('Mac OS X', 'iOS'), 1, NULL)) AS num_safari_edits,\n",
    "        COUNT(IF(safari_edits.os_family IS NOT NULL\n",
    "                 AND safari_edits.os_family = \"Mac OS X\", 1, NULL)) AS num_safari_macos_edits,\n",
    "        COUNT(IF(safari_edits.os_family IS NOT NULL\n",
    "                 AND safari_edits.os_family = \"iOS\", 1, NULL)) AS num_safari_ios_edits\n",
    "    FROM ip_edits\n",
    "    LEFT JOIN safari_edits\n",
    "    ON ip_edits.wiki_db = safari_edits.wiki_db\n",
    "    AND ip_edits.rev_id = safari_edits.cuc_this_oldid\n",
    "    AND ip_edits.actor_name = safari_edits.cuc_ip\n",
    "    GROUP BY ip_edits.wiki_db, ip_edits.actor_name\n",
    "),\n",
    "ip_agg AS (\n",
    "    SELECT\n",
    "        wiki_db AS wiki,\n",
    "        'IP' AS editor_class,\n",
    "        COUNT(1) AS num_editors,\n",
    "        COUNT(IF(num_safari_edits > 0, 1, NULL)) AS num_safari_editors,\n",
    "        COUNT(IF(num_safari_macos_edits > 0\n",
    "              AND num_safari_ios_edits = 0, 1, NULL)) AS num_safari_macos_editors,\n",
    "        COUNT(IF(num_safari_ios_edits > 0\n",
    "              AND num_safari_macos_edits = 0, 1, NULL)) AS num_safari_ios_editors,\n",
    "        COUNT(IF(num_safari_ios_edits > 0\n",
    "              AND num_safari_macos_edits > 0, 1, NULL)) AS num_safari_both_editors\n",
    "    FROM ip_editors\n",
    "    GROUP BY wiki_db\n",
    "),\n",
    "wiki_names AS (\n",
    "    SELECT\n",
    "        database_code AS wiki,\n",
    "        database_group AS project_group,\n",
    "        english_name\n",
    "    FROM canonical_data.wikis\n",
    ")\n",
    "SELECT\n",
    "    ip_agg.*,\n",
    "    wiki_names.project_group,\n",
    "    wiki_names.english_name\n",
    "FROM ip_agg\n",
    "JOIN wiki_names\n",
    "ON ip_agg.wiki = wiki_names.wiki\n",
    "'''"
   ]
  },
  {
   "cell_type": "code",
   "execution_count": 121,
   "id": "00ec7c81",
   "metadata": {},
   "outputs": [],
   "source": [
    "ip_editor_counts = hive.run(ip_editors_query)"
   ]
  },
  {
   "cell_type": "code",
   "execution_count": null,
   "id": "e2d7dee1",
   "metadata": {},
   "outputs": [],
   "source": [
    "ip_editor_counts.loc[ip_editor_counts['wiki'] == 'enwiki']"
   ]
  },
  {
   "cell_type": "code",
   "execution_count": 123,
   "id": "21657121",
   "metadata": {},
   "outputs": [],
   "source": [
    "ip_editor_counts.to_csv('ip_editor_counts_by_wiki.csv')"
   ]
  },
  {
   "cell_type": "markdown",
   "id": "9ce546f2",
   "metadata": {},
   "source": [
    "## Safari-exclusive Editors"
   ]
  },
  {
   "cell_type": "code",
   "execution_count": 102,
   "id": "d0af5e66",
   "metadata": {},
   "outputs": [],
   "source": [
    "safari_exclusive_editors_query = '''\n",
    "WITH reg_editors AS (\n",
    "    SELECT\n",
    "        wiki,\n",
    "        event.user_id,\n",
    "        COUNT(1) AS num_edits,\n",
    "        COUNT(IF(user_agent_map['browser_family'] = 'Safari', 1, NULL)) AS num_safari_edits,\n",
    "        COUNT(IF(user_agent_map['browser_family'] = 'Mobile Safari', 1, NULL)) AS num_mob_safari_edits\n",
    "    FROM event.editattemptstep\n",
    "    WHERE event.action = 'saveSuccess'\n",
    "    AND event.is_oversample = false -- Only use sampled events\n",
    "    AND event.user_id != 0 -- No IP edits\n",
    "    AND event.user_class IS NULL -- Set to \"bot\" if a bot user\n",
    "    GROUP BY wiki, event.user_id\n",
    "),\n",
    "reg_agg AS (\n",
    "    SELECT\n",
    "        wiki,\n",
    "        'registered' AS editor_class,\n",
    "        COUNT(1) AS num_editors,\n",
    "        COUNT(IF(num_edits = num_safari_edits, 1, NULL)) AS num_safari_ex_editors,\n",
    "        COUNT(IF(num_edits = num_mob_safari_edits, 1, NULL)) AS num_mobile_safari_ex_editors\n",
    "    FROM reg_editors\n",
    "    GROUP BY wiki\n",
    "),\n",
    "wiki_names AS (\n",
    "    SELECT\n",
    "        database_code AS wiki,\n",
    "        database_group AS project_group,\n",
    "        english_name\n",
    "    FROM canonical_data.wikis\n",
    ")\n",
    "SELECT\n",
    "    reg_agg.*,\n",
    "    wiki_names.project_group,\n",
    "    wiki_names.english_name\n",
    "FROM reg_agg\n",
    "JOIN wiki_names\n",
    "ON reg_agg.wiki = wiki_names.wiki\n",
    "'''"
   ]
  },
  {
   "cell_type": "code",
   "execution_count": 103,
   "id": "1e0c7a6b",
   "metadata": {},
   "outputs": [],
   "source": [
    "safari_exclusive_editors = presto.run(safari_exclusive_editors_query)"
   ]
  },
  {
   "cell_type": "code",
   "execution_count": null,
   "id": "e7fe776e",
   "metadata": {},
   "outputs": [],
   "source": [
    "safari_exclusive_editors.loc[safari_exclusive_editors['wiki'] == 'enwiki']"
   ]
  },
  {
   "cell_type": "code",
   "execution_count": 106,
   "id": "835836b7",
   "metadata": {},
   "outputs": [],
   "source": [
    "safari_exclusive_editors.to_csv('safari_exclusive_editors.csv')"
   ]
  },
  {
   "cell_type": "markdown",
   "id": "956b0327",
   "metadata": {},
   "source": [
    "## Editing and IP Blocks\n",
    "\n",
    "Note: this part of the analysis refers to [T292106](https://phabricator.wikimedia.org/T292106), and is our first attempt at answering questions for that task. We've since updated that task to clarify the questions, and there are references to specific notebooks for answering those.\n",
    "\n",
    "We want to know how many non-bot edits have been blocked for belonging to one of the IP ranges that are being used by the Relay Service. To do this, we first take `wmf_raw.mediawiki_private_cu_changes` and modify it so that it has a boolean field for whether the IP address used to edit it was a relay address. We store this as a temporary table, then use that for querying.\n",
    "\n",
    "Note that Hive JARs are also available in Spark, so we can use Spark for all of this.\n",
    "\n",
    "This code is based on Martin Urbanec's code to [check pageviews from the Relay Service](https://github.com/urbanecm/2021-icloud-private-relay-usage/blob/master/check_private_relay_usage.py)\n",
    "\n",
    "There are four places that IPs show up and we need to use `ipaddress` functionality:\n",
    "\n",
    "1. Determine if an IP address used for editing was a relay.\n",
    "2. Determine if an IP address used for editing is within either a local or a global block.\n",
    "3. Determine if a local block is of a Relay IP or range.\n",
    "4. Determine if a global block is of a Relay IP or range.\n",
    "\n",
    "I'm also thinking that trying to do this with a combination of Spark and SQL is not the way to go. Since we need the functionality to identify IPs that got blocked, we might as well just do it all in Spark?\n",
    "\n",
    "**Important note:** We're *only interested* in the number of non-bot edits that have been blocked, and whether it was a registered or non-registered user. We have data on the number of edits in other analysis. So, this is all about figuring out No. 4 in the list above and aggregating that count on a daily basis.\n",
    "\n",
    "Sketch of how to do this:\n",
    "\n",
    "1. Label edits in `mediawiki_private_cu_changes` with whether they were made from a relay IP or not.\n",
    "2. Create a temp view of that dataset.\n",
    "3. Write a query that extends that dataset with `rev_timestamp`, and whether the edit was a registered user or not. That query filters out bots by group membership or bot-like user name. Execute that query so it creates a Spark DataFrame on the cluster (`spark_session.sql(query)`).\n",
    "4. Create a DataFrame of local blocks.\n",
    "5. Cross-join the block DF with the edit DF and filter out blocks not made within 6 hours of the edits.\n",
    "6. Iterate over the joined DF and label the block as whether it blocked the IP or not.\n",
    "7. Repeat steps 4-6 for global blocks.\n",
    "8. Union the two, remove duplicate edits, label them by whether they were blocked locally, globally, or both.\n",
    "9. Aggregate across date, wiki_db, platform (Safair or Mobile Safari in our case), OS, user registration status.\n",
    "\n",
    "**Notes:**\n",
    "\n",
    "For future reference, there are more than 325,000 entries in the list of IP ranges. The code below does a linear search through that list for every IP or range it's testing. There must be more efficient methods of organizing that data to speed up the search. When testing on the command line, I noticed that range-based blocks are particularly slow. Part of that might be because the `ipaddress` library isn't performant, the other part is the fact that there are 325k networks to look through. *Update:* When it comes to improving the lookup algorithm, see [this notebook](https://github.com/wikimedia-research/2021-apple-relay-analysis/blob/main/T292106-relay-pageviews.ipynb) for that.\n",
    "\n",
    "Reading up on how to determine network overlap, one Stack Overflow thread I found was [Check if two CIDR addresses intersect?](https://stackoverflow.com/questions/17206679/check-if-two-cidr-addresses-intersect) As [one response](https://stackoverflow.com/a/17206898) there points out \"for the ranges to overlap, the first range's lowest address must be less than or equal to the second range's highest address, and vice versa.\" That means that we can do some organization of the data in order to determine that more quickly. This has been left for future work, e.g. if we need to determine how much of the network is blocked.\n",
    "\n",
    "Another observation: the most likely key limiting factor here are the relay edits themselves. How many of them are there, across the entire dataset? We're only interested in log actions that were made within 6 hours of any edit, meaning that it might be faster to first identify all the relay edits, then query the local and global logging databases in MariaDB to grab the blocks and check if they match because those queries are limited by `log_timestamp`, `log_action`, and `log_type` so they're indexed queries.\n",
    "\n",
    "Note: we continue to run into problems with identifying relays at scale. I've attempted to mitigate the problem by applying the SQL scheduler approach of \"push filter statements as high up in the schedule as possible\" in order to reduce the size of the initial dataset. This means that we're assuming for now that *all relay edits are made with Safari*, and filter `mediawiki_raw_cu_changes` to rows with Safari or Mobile Safari as the browser family. *Update:* The above mentioned notebook with an updated lookup algorithm solves this problem, we're aggregating tens of millions of pageviews in a few minutes."
   ]
  },
  {
   "cell_type": "code",
   "execution_count": 8,
   "id": "322989fe",
   "metadata": {},
   "outputs": [],
   "source": [
    "# load iCloud's private relay egress ranges\n",
    "# data comes from https://mask-api.icloud.com/egress-ip-ranges.csv\n",
    "relay_ranges = pd.read_csv('datasets/egress-ip-ranges.csv',\n",
    "                           sep=',', names=['range', 'country', 'region', 'city', 'empty']).drop(columns=['empty'])\n"
   ]
  },
  {
   "cell_type": "code",
   "execution_count": 9,
   "id": "70c27dec",
   "metadata": {},
   "outputs": [],
   "source": [
    "binary_relay_nets = []\n",
    "for net_raw in relay_ranges.range:\n",
    "    net = ipaddress.ip_network(net_raw)\n",
    "    binary_relay_nets.append((\n",
    "        # network address in binary\n",
    "        int(net.network_address),\n",
    "        # netmask in binary\n",
    "        int(net.netmask)\n",
    "    ))"
   ]
  },
  {
   "cell_type": "code",
   "execution_count": 10,
   "id": "cdbe125f",
   "metadata": {},
   "outputs": [],
   "source": [
    "relay_nets = [ipaddress.ip_network(net_raw) for net_raw in relay_ranges.range]"
   ]
  },
  {
   "cell_type": "code",
   "execution_count": 11,
   "id": "52e36ec7",
   "metadata": {},
   "outputs": [],
   "source": [
    "def is_ip_private_relay(ip_raw):\n",
    "    # this is based on https://stackoverflow.com/a/1004527\n",
    "    ip = int(ipaddress.ip_address(ip_raw))\n",
    "    for net in binary_relay_nets:\n",
    "        if (ip & net[1]) == net[0]:\n",
    "            return True\n",
    "    return False"
   ]
  },
  {
   "cell_type": "code",
   "execution_count": 73,
   "id": "44ac3986",
   "metadata": {},
   "outputs": [],
   "source": [
    "def is_private_relay_block(ip_or_range):\n",
    "    try:\n",
    "        ip = int(ipaddress.ip_address(ip_or_range))\n",
    "        for net in binary_relay_nets:\n",
    "            if (ip & net[1]) == net[0]:\n",
    "                return(True)\n",
    "    except ValueError:\n",
    "        try:\n",
    "            range = ipaddress.ip_network(ip_or_range)\n",
    "            for net in relay_nets:\n",
    "                if range.overlaps(net):\n",
    "                    return(True)\n",
    "        except ValueError:\n",
    "            return(False)\n",
    "    \n",
    "    return(False)\n"
   ]
  },
  {
   "cell_type": "code",
   "execution_count": 62,
   "id": "e5fedc68",
   "metadata": {},
   "outputs": [],
   "source": [
    "def ip_is_blocked(raw_ip, block_ip_user_or_range):\n",
    "    try:\n",
    "        blocked_ip = ipaddress.ip_address(block_ip_user_or_range)\n",
    "        return(raw_ip == block_ip_user_or_range) # exact IP blocked, do they match?\n",
    "    except ValueError:\n",
    "        try:\n",
    "            ip = ipaddress.ip_address(raw_ip)\n",
    "            blocked_range = ipaddress.ip_network(block_ip_user_or_range)\n",
    "            return(ip in blocked_range) # is the IP in the blocked range?\n",
    "        except ValueError:\n",
    "            return(False) # not an IP address or network\n",
    "    \n",
    "    return(False)\n",
    "        "
   ]
  },
  {
   "cell_type": "markdown",
   "id": "d02513af",
   "metadata": {},
   "source": []
  },
  {
   "cell_type": "code",
   "execution_count": 18,
   "id": "8b6ea641",
   "metadata": {},
   "outputs": [
    {
     "data": {
      "text/plain": [
       "DataFrame[result: int]"
      ]
     },
     "execution_count": 18,
     "metadata": {},
     "output_type": "execute_result"
    }
   ],
   "source": [
    "spark_session.sql(\"ADD JAR hdfs:///wmf/refinery/current/artifacts/refinery-hive-shaded.jar\")"
   ]
  },
  {
   "cell_type": "code",
   "execution_count": 19,
   "id": "92fabf13",
   "metadata": {},
   "outputs": [
    {
     "data": {
      "text/plain": [
       "DataFrame[]"
      ]
     },
     "execution_count": 19,
     "metadata": {},
     "output_type": "execute_result"
    }
   ],
   "source": [
    "spark_session.sql(\"CREATE TEMPORARY FUNCTION ua AS 'org.wikimedia.analytics.refinery.hive.GetUAPropertiesUDF'\")"
   ]
  },
  {
   "cell_type": "code",
   "execution_count": 16,
   "id": "97d60bea",
   "metadata": {},
   "outputs": [],
   "source": [
    "safari_edits_query = '''\n",
    "SELECT\n",
    "    wiki_db,\n",
    "    cuc_this_oldid,\n",
    "    cuc_ip,\n",
    "    ua(cuc_agent)['browser_family'] AS browser_family,\n",
    "    ua(cuc_agent)['os_family'] AS os_family,\n",
    "    ua(cuc_agent)['os_major'] AS os_major,\n",
    "    ua(cuc_agent)['os_minor'] AS os_minor\n",
    "FROM wmf_raw.mediawiki_private_cu_changes\n",
    "WHERE ua(cuc_agent)['browser_family'] REGEXP \"Safari\"\n",
    "'''"
   ]
  },
  {
   "cell_type": "code",
   "execution_count": 20,
   "id": "198f6864",
   "metadata": {},
   "outputs": [],
   "source": [
    "safari_edits_df = spark_session.sql(safari_edits_query)"
   ]
  },
  {
   "cell_type": "code",
   "execution_count": 21,
   "id": "97ac50d0",
   "metadata": {},
   "outputs": [],
   "source": [
    "cu_changes_data_is_relay = spark_session.createDataFrame(\n",
    "    safari_edits_df.rdd.map(lambda r: T.Row(\n",
    "        wiki_db = r.wiki_db,\n",
    "        cuc_this_oldid = r.cuc_this_oldid,\n",
    "        cuc_ip = r.cuc_ip,\n",
    "        browser_family = r.browser_family,\n",
    "        os_family = r.os_family,\n",
    "        os_major = r.os_major,\n",
    "        os_minor = r.os_minor,\n",
    "        is_relay=is_ip_private_relay(r.cuc_ip)\n",
    "    ))\n",
    ")"
   ]
  },
  {
   "cell_type": "code",
   "execution_count": 22,
   "id": "5e001b36",
   "metadata": {},
   "outputs": [],
   "source": [
    "relay_edits = cu_changes_data_is_relay.where(F.col(\"is_relay\") == True).toPandas()"
   ]
  },
  {
   "cell_type": "markdown",
   "id": "9f636609",
   "metadata": {},
   "source": [
    "**Note:** We could've pulled the user ID and user name from `mediawiki_private_cu_changes` as well.\n",
    "\n",
    "**Note:** `cuc_type` refers to `rc_type` in `recentchanges` and for many actions in `cu_changes` there's not an associated revision. E.g. autocreated users, abuse filter triggers, page protection. In that case, `cu_this_oldid` is 0, and so we need to filter those out. In other words, we can further limit the dataset by requiring `cu_this_oldid` to be non-zero."
   ]
  },
  {
   "cell_type": "code",
   "execution_count": 35,
   "id": "b7e7e404",
   "metadata": {},
   "outputs": [
    {
     "data": {
      "text/plain": [
       "997"
      ]
     },
     "execution_count": 35,
     "metadata": {},
     "output_type": "execute_result"
    }
   ],
   "source": [
    "len(relay_edits.loc[relay_edits['cuc_this_oldid'] != 0])"
   ]
  },
  {
   "cell_type": "code",
   "execution_count": null,
   "id": "e349103b",
   "metadata": {},
   "outputs": [],
   "source": [
    "(relay_edits.loc[relay_edits['cuc_this_oldid'] != 0].groupby('wiki_db')\n",
    " .agg({'cuc_this_oldid' : 'count'})\n",
    " .rename(columns = {'cuc_this_oldid' : 'n_edits'})\n",
    " .sort_values('n_edits', ascending = False)\n",
    " .head(20))"
   ]
  },
  {
   "cell_type": "markdown",
   "id": "3a2e66f4",
   "metadata": {},
   "source": [
    "This is a number of edits that we can easily work with. So, we'll loop over them and use the `revision`, `archive`, `actor`, and `user_group` tables in MediaWiki to get revision information (timestamp, logged in/out, bot by group and user name), and then use the `logging` table to identify possible local and global blocks of the IP."
   ]
  },
  {
   "cell_type": "code",
   "execution_count": 101,
   "id": "cb6de8a5",
   "metadata": {},
   "outputs": [],
   "source": [
    "def add_rev_info(row):\n",
    "    '''\n",
    "    For the given row with data about a revision and IP used for editing, look up revision information\n",
    "    and identify if the user was registered, a bot by group, or bot by name.\n",
    "    '''\n",
    "    \n",
    "    ## bot user name regex from Data Engineering\n",
    "    botUsernamePattern = r\"^.*[Bb]ot([^a-zA-Z].*$|$)\"\n",
    "    \n",
    "    ## Query to look up the revision timestamp, actor information\n",
    "    rev_query = '''\n",
    "    WITH bots AS (\n",
    "        SELECT\n",
    "            ug_user\n",
    "        FROM user_groups\n",
    "        WHERE ug_group = \"bot\"\n",
    "    )\n",
    "    SELECT\n",
    "        rev_id,\n",
    "        actor_user,\n",
    "        actor_name,\n",
    "        rev_timestamp,\n",
    "        IF(actor_user IS NOT NULL, 1, 0) AS rev_user_is_registered,\n",
    "        IF(ug_user IS NOT NULL, 1, 0) AS rev_user_is_bot_by_group,\n",
    "        IF(actor_user IS NOT NULL\n",
    "           AND actor_name REGEXP \"{bot_regex}\", 1, 0) AS rev_user_is_bot_by_name\n",
    "    FROM revision\n",
    "    JOIN revision_actor_temp\n",
    "    ON rev_id = revactor_rev\n",
    "    JOIN actor\n",
    "    ON revactor_actor = actor_id\n",
    "    LEFT JOIN bots\n",
    "    ON actor_user = ug_user\n",
    "    WHERE rev_id = {rev_id}    \n",
    "    '''\n",
    "    \n",
    "    archive_query = '''\n",
    "    WITH bots AS (\n",
    "        SELECT\n",
    "            ug_user\n",
    "        FROM user_groups\n",
    "        WHERE ug_group = \"bot\"\n",
    "    )\n",
    "    SELECT\n",
    "        ar_rev_id AS rev_id,\n",
    "        actor_user,\n",
    "        actor_name,\n",
    "        ar_timestamp AS rev_timestamp,\n",
    "        IF(actor_user IS NOT NULL, 1, 0) AS rev_user_is_registered,\n",
    "        IF(ug_user IS NOT NULL, 1, 0) AS rev_user_is_bot_by_group,\n",
    "        IF(actor_user IS NOT NULL\n",
    "           AND actor_name REGEXP \"{bot_regex}\", 1, 0) AS rev_user_is_bot_by_name\n",
    "    FROM archive\n",
    "    JOIN actor\n",
    "    ON ar_actor = actor_id\n",
    "    LEFT JOIN bots\n",
    "    ON actor_user = ug_user\n",
    "    WHERE ar_rev_id = {rev_id}\n",
    "    '''\n",
    "   \n",
    "    rev_df = mariadb.run(rev_query.format(\n",
    "        rev_id = row['cuc_this_oldid'],\n",
    "        bot_regex = botUsernamePattern), row['wiki_db'])\n",
    "\n",
    "    if len(rev_df) > 0:\n",
    "        return(row.append(rev_df.squeeze()))\n",
    "        \n",
    "    ar_df = mariadb.run(archive_query.format(\n",
    "        rev_id = row['cuc_this_oldid'],\n",
    "        bot_regex = botUsernamePattern), row['wiki_db'])\n",
    "        \n",
    "    if len(ar_df) > 0:\n",
    "        return(row.append(ar_df.squeeze()))\n",
    "               \n",
    "    return(pd.Series())"
   ]
  },
  {
   "cell_type": "code",
   "execution_count": 76,
   "id": "2c932005",
   "metadata": {},
   "outputs": [],
   "source": [
    "def add_local_blocks(row):\n",
    "    '''\n",
    "    For the given row with data about a revision and IP used for editing, look up potential blocks\n",
    "    made within 6 hours of the revision, and identify if any of those blocked the given IP.\n",
    "    '''\n",
    "    \n",
    "    local_block_query = '''\n",
    "    SELECT\n",
    "        log_timestamp,\n",
    "        log_title\n",
    "    FROM logging\n",
    "    WHERE log_type = \"block\"\n",
    "    AND log_action = \"block\"\n",
    "    AND log_timestamp > \"{rev_timestamp}\"\n",
    "    AND unix_timestamp(log_timestamp) - unix_timestamp(\"{rev_timestamp}\") < 60 * 60 * 6    \n",
    "    '''\n",
    "\n",
    "    is_local_blocked = False\n",
    "    \n",
    "    block_data = mariadb.run(local_block_query.format(\n",
    "        rev_timestamp = row['rev_timestamp']\n",
    "    ), row['wiki_db'])\n",
    "    \n",
    "    for log_row in block_data.itertuples():\n",
    "        if ip_is_blocked(row['cuc_ip'], log_row.log_title):\n",
    "            is_local_blocked = True\n",
    "    \n",
    "    row['is_local_blocked'] = is_local_blocked\n",
    "    \n",
    "    return(row)\n",
    "    "
   ]
  },
  {
   "cell_type": "code",
   "execution_count": 88,
   "id": "c537b1d9",
   "metadata": {},
   "outputs": [],
   "source": [
    "def add_global_blocks(row):\n",
    "    '''\n",
    "    For the given row with data about a revision and IP used for editing, look up potential\n",
    "    global blocks on metawiki made within 6 hours of the revision, and identify if any of those\n",
    "    blocked the given IP.\n",
    "    '''\n",
    "    \n",
    "    global_block_query = '''\n",
    "    SELECT\n",
    "        log_timestamp,\n",
    "        log_title\n",
    "    FROM logging\n",
    "    WHERE log_type = \"gblblock\"\n",
    "    AND log_action = \"gblock2\"\n",
    "    AND log_timestamp > \"{rev_timestamp}\"\n",
    "    AND unix_timestamp(log_timestamp) - unix_timestamp(\"{rev_timestamp}\") < 60 * 60 * 6    \n",
    "    '''\n",
    "\n",
    "    is_global_blocked = False\n",
    "    \n",
    "    block_data = mariadb.run(global_block_query.format(\n",
    "        rev_timestamp = row['rev_timestamp']\n",
    "    ), 'metawiki')\n",
    "    \n",
    "    for log_row in block_data.itertuples():\n",
    "        if ip_is_blocked(row['cuc_ip'], log_row.log_title):\n",
    "            is_global_blocked = True\n",
    "    \n",
    "    row['is_global_blocked'] = is_global_blocked\n",
    "    \n",
    "    return(row)\n",
    "    "
   ]
  },
  {
   "cell_type": "code",
   "execution_count": null,
   "id": "9addf2f7",
   "metadata": {},
   "outputs": [],
   "source": [
    "relay_edits.loc[relay_edits['cuc_this_oldid'] != 0].head()"
   ]
  },
  {
   "cell_type": "code",
   "execution_count": 102,
   "id": "8361e850",
   "metadata": {},
   "outputs": [],
   "source": [
    "relay_full_df = relay_edits.loc[relay_edits['cuc_this_oldid'] != 0].apply(add_rev_info, axis = 1)"
   ]
  },
  {
   "cell_type": "code",
   "execution_count": null,
   "id": "7274e5dd",
   "metadata": {},
   "outputs": [],
   "source": [
    "relay_full_df.loc[relay_full_df['rev_user_is_bot_by_group'] == 1]"
   ]
  },
  {
   "cell_type": "code",
   "execution_count": 106,
   "id": "115f070a",
   "metadata": {},
   "outputs": [],
   "source": [
    "relay_full_df = relay_full_df.apply(add_local_blocks, axis = 1)"
   ]
  },
  {
   "cell_type": "code",
   "execution_count": 109,
   "id": "9d1349f8",
   "metadata": {},
   "outputs": [],
   "source": [
    "relay_full_df = relay_full_df.apply(add_global_blocks, axis = 1)"
   ]
  },
  {
   "cell_type": "code",
   "execution_count": null,
   "id": "6910b748",
   "metadata": {},
   "outputs": [],
   "source": [
    "relay_full_df.loc[relay_full_df['is_local_blocked'] == True]"
   ]
  },
  {
   "cell_type": "code",
   "execution_count": null,
   "id": "4c9219f4",
   "metadata": {},
   "outputs": [],
   "source": [
    "relay_full_df.loc[relay_full_df['is_global_blocked'] == True]"
   ]
  },
  {
   "cell_type": "markdown",
   "id": "62ef2397",
   "metadata": {},
   "source": []
  }
 ],
 "metadata": {
  "kernelspec": {
   "display_name": "Python 3",
   "language": "python",
   "name": "python3"
  },
  "language_info": {
   "codemirror_mode": {
    "name": "ipython",
    "version": 3
   },
   "file_extension": ".py",
   "mimetype": "text/x-python",
   "name": "python",
   "nbconvert_exporter": "python",
   "pygments_lexer": "ipython3",
   "version": "3.7.6"
  }
 },
 "nbformat": 4,
 "nbformat_minor": 5
}
