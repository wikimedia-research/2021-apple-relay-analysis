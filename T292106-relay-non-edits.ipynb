{
 "cells": [
  {
   "cell_type": "markdown",
   "id": "fe1ec7d8",
   "metadata": {},
   "source": [
    "# Potential Edits Being Blocked\n",
    "\n",
    "After discussing our findings and needs further, [T292106](https://phabricator.wikimedia.org/T292106) got an update to ask the following question:\n",
    "\n",
    "* \"How many edits are not happening because they are being blocked simply for coming from Relay IP addresses?\"\n",
    "\n",
    "We're thinking about trying to solve this as a probability problem:\n",
    "\n",
    "1. What's the overall probability of an iOS 15 user who loads the editor also saves an edit?\n",
    "2. How many iOS 15 requests do we have that open the editor? What number and proportion of them were made with Relay Service IP addresses?\n",
    "3. Combine the first and second to estimate how many edits we'd get if none were blocked.\n",
    "4. Count how many edits we've actually had (using `cu_changes` across all the wikis) by iOS 15 users. What number and proportion of them were made with Relay Service IP addresses?\n",
    "5. Use the last two measurements to estimate how many edits we've lost.\n",
    "\n",
    "Based on the description of the task, we're primarily interested in an overall estimate. We'll examine data from Sept 20 (the iOS 15 release date) to Oct 14 (most recent whole day of data).\n",
    "\n",
    "I'll use EditAttemptStep to generate the first statistic. The second, we'll pull from `pageview_actor`.\n",
    "\n",
    "For the fourth, I'll grab my code to find all the wikis from the Welcome Survey aggregation, then for each wiki check if it has `cu_changes` and if so pull data. If it doesn't have that, we don't have data and will need to note that.\n",
    "\n",
    "# Notes\n",
    "\n",
    "After digging into what happens in the browser when trying to edit, I don't think we have good data that'll allow us to estimate how often users try to open the editor. The mobile experience as well as VE both load things through JS. There does appear to be some requests that might allow us to dig things out of the webrequest logs, since these requests go to the API, but we're then sifting through a lot of data.\n",
    "\n",
    "Instead, I advocate for two things:\n",
    "\n",
    "1. We file a phab task requesting a data stream of users clicking \"Edit\" but being notified that they're blocked from editing. I'm not sure what data that stream should capture, but I think given the complexity of the systems we have, being able to determine that someone wanted to edit but were disallowed to would be important.\n",
    "2. We have good data on pageviews from iOS 15, and we have good data on edits from iOS 15. Let's focus on those two and split them by Relay Service. Then we'll aggregate and calculate the probability of a saved edit given a pageview for non-Relay users, and use the number of pageviews by Relay users to estimate the number of edits. This assumes that the likelihood of clicking Edit and saving that edit is the same for both groups. I think that's an assumption that's *very* uncertain, but I think it'll give us the best estimate for now.\n",
    "\n",
    "I asked around about whether identifying edits through web requests was doable, and there are query parameters listed in [T277785](https://phabricator.wikimedia.org/T277785) that suggests this is the case. As discussed above, we'd be going through a lot of data, so we're holding off on that for now."
   ]
  },
  {
   "cell_type": "code",
   "execution_count": 1,
   "id": "d9530535",
   "metadata": {},
   "outputs": [],
   "source": [
    "import os\n",
    "import ipaddress\n",
    "import time\n",
    "\n",
    "from collections import defaultdict\n",
    "\n",
    "import datetime as dt\n",
    "\n",
    "import numpy as np\n",
    "import pandas as pd\n",
    "\n",
    "import findspark\n",
    "from wmfdata import spark"
   ]
  },
  {
   "cell_type": "code",
   "execution_count": 2,
   "id": "420c02cb",
   "metadata": {},
   "outputs": [],
   "source": [
    "SPARK_HOME = os.environ.get(\"SPARK_HOME\", \"/usr/lib/spark2\")\n",
    "findspark.init(SPARK_HOME)\n",
    "from pyspark.sql import functions as F, types as T, Window"
   ]
  },
  {
   "cell_type": "code",
   "execution_count": 3,
   "id": "cf8db182",
   "metadata": {},
   "outputs": [
    {
     "name": "stderr",
     "output_type": "stream",
     "text": [
      "PySpark executors will use /usr/lib/anaconda-wmf/bin/python3.\n"
     ]
    }
   ],
   "source": [
    "# we'll start with a regular sized session\n",
    "spark_session = spark.get_session()"
   ]
  },
  {
   "cell_type": "markdown",
   "id": "c30750ff",
   "metadata": {},
   "source": [
    "## Load in the Relay Range Dataset"
   ]
  },
  {
   "cell_type": "code",
   "execution_count": 4,
   "id": "859e001d",
   "metadata": {},
   "outputs": [],
   "source": [
    "# load iCloud's private relay egress ranges\n",
    "# data comes from https://mask-api.icloud.com/egress-ip-ranges.csv\n",
    "relay_ranges = pd.read_csv('datasets/egress-ip-ranges.csv',\n",
    "                           sep=',', names=['range', 'country', 'region', 'city', 'empty']).drop(columns=['empty'])\n"
   ]
  },
  {
   "cell_type": "code",
   "execution_count": 5,
   "id": "08a8421b",
   "metadata": {},
   "outputs": [],
   "source": [
    "## This data structure is based on using https://stackoverflow.com/a/1004527\n",
    "## to determine if an IP falls within a given network, which gives the following\n",
    "## assertions:\n",
    "## 1: IPv4 and IPV6 networks are disjoint so we can split on IP version. There used to be\n",
    "##    compatibility between the networks, but that was deprecated according to\n",
    "##    https://networkengineering.stackexchange.com/questions/57903/are-the-ipv6-address-space-and-ipv4-address-space-completely-disjoint\n",
    "## 2: The netmask is binary-AND'ed onto the binary IP address, hence\n",
    "##    the second layer are the netmasks, of which we expect there to be a limited number. \n",
    "## 3: We then have a limited set of possible networks which are all numbers\n",
    "##    so we store those as a set and let Python handle it, which gives us fast lookup.\n",
    "\n",
    "dict_nets = {\n",
    "    '4' : defaultdict(set),\n",
    "    '6' : defaultdict(set)    \n",
    "}"
   ]
  },
  {
   "cell_type": "code",
   "execution_count": 6,
   "id": "ef9dce80",
   "metadata": {},
   "outputs": [],
   "source": [
    "for net_raw in relay_ranges.range:\n",
    "    net = ipaddress.ip_network(net_raw)\n",
    "    \n",
    "    net_v = str(net.version)\n",
    "    \n",
    "    dict_nets[net_v][net.netmask].add(int(net.network_address))"
   ]
  },
  {
   "cell_type": "code",
   "execution_count": 7,
   "id": "09e1c4a5",
   "metadata": {},
   "outputs": [],
   "source": [
    "def is_ip_private_relay(ip_raw):\n",
    "    try:\n",
    "        ip = ipaddress.ip_address(ip_raw)\n",
    "        bin_ip = int(ip)\n",
    "    \n",
    "        for netmask, range_set in dict_nets[str(ip.version)].items():\n",
    "            bin_netmask = int(netmask)\n",
    "            if (bin_ip & bin_netmask) in range_set:\n",
    "                return(True)\n",
    "    except ValueError: # not a valid IP address\n",
    "        pass \n",
    "    \n",
    "    return(False)"
   ]
  },
  {
   "cell_type": "markdown",
   "id": "fd33a12f",
   "metadata": {},
   "source": [
    "## Probability of Saving an Edit\n",
    "\n",
    "For all edit attempts on iOS 15, split by platform, what's the probability of successfully saving an edit?"
   ]
  },
  {
   "cell_type": "code",
   "execution_count": 17,
   "id": "693d7812",
   "metadata": {},
   "outputs": [],
   "source": [
    "edit_attempt_query = '''\n",
    "SELECT\n",
    "    event.platform,\n",
    "    event.editor_interface,\n",
    "    COUNT(IF(event.action = \"init\", 1, NULL)) AS num_attempts,\n",
    "    COUNT(IF(event.action = \"saveSuccess\", 1, NULL)) AS num_saves\n",
    "FROM event.editattemptstep\n",
    "WHERE year = 2021\n",
    "AND ((month = 9 AND day >= 20)\n",
    "     OR (month = 10 AND day <= 14))\n",
    "AND event.action IN (\"init\", \"saveSuccess\")\n",
    "AND user_agent_map[\"os_family\"] = \"iOS\"\n",
    "AND user_agent_map[\"os_major\"] = \"15\"\n",
    "AND event.is_oversample = false\n",
    "GROUP BY event.platform, event.editor_interface\n",
    "'''"
   ]
  },
  {
   "cell_type": "code",
   "execution_count": 18,
   "id": "2140af5c",
   "metadata": {},
   "outputs": [
    {
     "name": "stderr",
     "output_type": "stream",
     "text": [
      "PySpark executors will use /usr/lib/anaconda-wmf/bin/python3.\n"
     ]
    }
   ],
   "source": [
    "edit_attempt_data = spark.run(edit_attempt_query)"
   ]
  },
  {
   "cell_type": "code",
   "execution_count": 20,
   "id": "b86d6824",
   "metadata": {},
   "outputs": [],
   "source": [
    "edit_attempt_data['prob_saved'] = 100.0 * edit_attempt_data['num_saves'] / edit_attempt_data['num_attempts']"
   ]
  },
  {
   "cell_type": "code",
   "execution_count": 21,
   "id": "99d6486c",
   "metadata": {},
   "outputs": [
    {
     "data": {
      "text/html": [
       "<div>\n",
       "<style scoped>\n",
       "    .dataframe tbody tr th:only-of-type {\n",
       "        vertical-align: middle;\n",
       "    }\n",
       "\n",
       "    .dataframe tbody tr th {\n",
       "        vertical-align: top;\n",
       "    }\n",
       "\n",
       "    .dataframe thead th {\n",
       "        text-align: right;\n",
       "    }\n",
       "</style>\n",
       "<table border=\"1\" class=\"dataframe\">\n",
       "  <thead>\n",
       "    <tr style=\"text-align: right;\">\n",
       "      <th></th>\n",
       "      <th>platform</th>\n",
       "      <th>editor_interface</th>\n",
       "      <th>num_attempts</th>\n",
       "      <th>num_saves</th>\n",
       "      <th>prob_saved</th>\n",
       "    </tr>\n",
       "  </thead>\n",
       "  <tbody>\n",
       "    <tr>\n",
       "      <th>0</th>\n",
       "      <td>desktop</td>\n",
       "      <td>wikitext-2017</td>\n",
       "      <td>115</td>\n",
       "      <td>80</td>\n",
       "      <td>69.565217</td>\n",
       "    </tr>\n",
       "    <tr>\n",
       "      <th>1</th>\n",
       "      <td>desktop</td>\n",
       "      <td>visualeditor</td>\n",
       "      <td>154</td>\n",
       "      <td>26</td>\n",
       "      <td>16.883117</td>\n",
       "    </tr>\n",
       "    <tr>\n",
       "      <th>2</th>\n",
       "      <td>desktop</td>\n",
       "      <td>wikitext</td>\n",
       "      <td>9669</td>\n",
       "      <td>938</td>\n",
       "      <td>9.701107</td>\n",
       "    </tr>\n",
       "    <tr>\n",
       "      <th>3</th>\n",
       "      <td>phone</td>\n",
       "      <td>wikitext</td>\n",
       "      <td>52464</td>\n",
       "      <td>3406</td>\n",
       "      <td>6.492071</td>\n",
       "    </tr>\n",
       "    <tr>\n",
       "      <th>4</th>\n",
       "      <td>phone</td>\n",
       "      <td>visualeditor</td>\n",
       "      <td>3512</td>\n",
       "      <td>822</td>\n",
       "      <td>23.405467</td>\n",
       "    </tr>\n",
       "  </tbody>\n",
       "</table>\n",
       "</div>"
      ],
      "text/plain": [
       "  platform editor_interface  num_attempts  num_saves  prob_saved\n",
       "0  desktop    wikitext-2017           115         80   69.565217\n",
       "1  desktop     visualeditor           154         26   16.883117\n",
       "2  desktop         wikitext          9669        938    9.701107\n",
       "3    phone         wikitext         52464       3406    6.492071\n",
       "4    phone     visualeditor          3512        822   23.405467"
      ]
     },
     "execution_count": 21,
     "metadata": {},
     "output_type": "execute_result"
    }
   ],
   "source": [
    "edit_attempt_data"
   ]
  },
  {
   "cell_type": "markdown",
   "id": "a3c91d14",
   "metadata": {},
   "source": [
    "Based on this, I think it's important for us to take site (desktop/mobile) into consideration, and possibly also try to understand if the edit attempt it using VE or wikitext."
   ]
  },
  {
   "cell_type": "markdown",
   "id": "9f934984",
   "metadata": {},
   "source": [
    "## Number of Edits from iOS 15\n",
    "\n",
    "We'll grab data from `wmf_raw.mediawiki_private_cu_changes` from September 20–30 and identify all edits made through iOS 15 and label whether they were made using a relay IP or not."
   ]
  },
  {
   "cell_type": "code",
   "execution_count": 22,
   "id": "905656ff",
   "metadata": {},
   "outputs": [
    {
     "data": {
      "text/plain": [
       "DataFrame[result: int]"
      ]
     },
     "execution_count": 22,
     "metadata": {},
     "output_type": "execute_result"
    }
   ],
   "source": [
    "spark_session.sql(\"ADD JAR hdfs:///wmf/refinery/current/artifacts/refinery-hive-shaded.jar\")"
   ]
  },
  {
   "cell_type": "code",
   "execution_count": 23,
   "id": "94248a60",
   "metadata": {},
   "outputs": [
    {
     "data": {
      "text/plain": [
       "DataFrame[]"
      ]
     },
     "execution_count": 23,
     "metadata": {},
     "output_type": "execute_result"
    }
   ],
   "source": [
    "spark_session.sql(\"CREATE TEMPORARY FUNCTION ua AS 'org.wikimedia.analytics.refinery.hive.GetUAPropertiesUDF'\")"
   ]
  },
  {
   "cell_type": "code",
   "execution_count": 24,
   "id": "4cbeb485",
   "metadata": {},
   "outputs": [],
   "source": [
    "## bot user name regex from Data Engineering\n",
    "botUsernamePattern = r\"^.*[Bb]ot([^a-zA-Z].*$|$)\""
   ]
  },
  {
   "cell_type": "code",
   "execution_count": 29,
   "id": "ece834c8",
   "metadata": {},
   "outputs": [],
   "source": [
    "ios15_nonbot_edits_query = '''\n",
    "WITH bots AS (\n",
    "    SELECT\n",
    "        wiki_db,\n",
    "        ug_user\n",
    "    FROM wmf_raw.mediawiki_user_groups\n",
    "    WHERE snapshot = \"2021-09\"\n",
    "    AND ug_group = \"bot\"\n",
    ")\n",
    "SELECT\n",
    "    cu.wiki_db,\n",
    "    cuc_user,\n",
    "    cuc_user_text,\n",
    "    cuc_this_oldid,\n",
    "    cuc_ip,\n",
    "    ua(cuc_agent)['browser_family'] AS browser_family\n",
    "FROM wmf_raw.mediawiki_private_cu_changes AS cu\n",
    "LEFT JOIN bots\n",
    "ON cu.wiki_db = bots.wiki_db\n",
    "AND cu.cuc_user = bots.ug_user\n",
    "WHERE cu.month = \"2021-09\"\n",
    "AND cuc_timestamp >= \"20210920000000\"\n",
    "AND cuc_timestamp < \"20211001000000\"\n",
    "AND ua(cuc_agent)['os_family'] = \"iOS\"\n",
    "AND ua(cuc_agent)['os_major'] = \"15\"\n",
    "AND cuc_this_oldid != 0 -- only edits\n",
    "AND bots.ug_user IS NULL -- not in the bot user group\n",
    "AND cuc_user_text NOT REGEXP \"{bot_regex}\" -- not a bot user name\n",
    "'''"
   ]
  },
  {
   "cell_type": "code",
   "execution_count": 30,
   "id": "b5b5c86c",
   "metadata": {},
   "outputs": [],
   "source": [
    "ios15_nonbot_edits_df = spark_session.sql(ios15_nonbot_edits_query.format(\n",
    "    bot_regex = botUsernamePattern\n",
    "))"
   ]
  },
  {
   "cell_type": "code",
   "execution_count": 32,
   "id": "e12a1abd",
   "metadata": {},
   "outputs": [],
   "source": [
    "ios15_nonbot_edits_relay_df = spark_session.createDataFrame(\n",
    "    ios15_nonbot_edits_df.rdd.map(lambda r: T.Row(\n",
    "        wiki_db = r.wiki_db,\n",
    "        cuc_user = r.cuc_user,\n",
    "        cuc_user_text = r.cuc_user_text,\n",
    "        cuc_this_oldid = r.cuc_this_oldid,\n",
    "        cuc_ip = r.cuc_ip,\n",
    "        browser_family = r.browser_family,\n",
    "        is_relay=is_ip_private_relay(r.cuc_ip)\n",
    "    ))\n",
    ")"
   ]
  },
  {
   "cell_type": "code",
   "execution_count": 33,
   "id": "c624744f",
   "metadata": {},
   "outputs": [],
   "source": [
    "ios15_nonbot_edits_pdf = ios15_nonbot_edits_relay_df.toPandas()"
   ]
  },
  {
   "cell_type": "code",
   "execution_count": null,
   "id": "6f47e74e",
   "metadata": {},
   "outputs": [],
   "source": [
    "ios15_nonbot_edits_pdf.head()"
   ]
  },
  {
   "cell_type": "code",
   "execution_count": 40,
   "id": "8de96949",
   "metadata": {},
   "outputs": [
    {
     "data": {
      "text/plain": [
       "array(['Mobile Safari UI/WKWebView', 'Other', 'Chrome Mobile iOS',\n",
       "       'Mobile Safari', 'Google', 'Firefox iOS', 'LINE', 'Facebook',\n",
       "       'Instagram', 'Yandex Browser', 'Edge Mobile', 'UC Browser',\n",
       "       'DuckDuckGo Mobile', 'Pinterest', 'Whale'], dtype=object)"
      ]
     },
     "execution_count": 40,
     "metadata": {},
     "output_type": "execute_result"
    }
   ],
   "source": [
    "ios15_nonbot_edits_pdf['browser_family'].unique()"
   ]
  },
  {
   "cell_type": "code",
   "execution_count": 82,
   "id": "a45b114c",
   "metadata": {},
   "outputs": [
    {
     "data": {
      "text/plain": [
       "array(['Mobile Safari'], dtype=object)"
      ]
     },
     "execution_count": 82,
     "metadata": {},
     "output_type": "execute_result"
    }
   ],
   "source": [
    "ios15_nonbot_edits_pdf.loc[ios15_nonbot_edits_pdf['is_relay'] == True, 'browser_family'].unique()"
   ]
  },
  {
   "cell_type": "code",
   "execution_count": 47,
   "id": "31b89732",
   "metadata": {},
   "outputs": [],
   "source": [
    "ios15_edits_agg = (ios15_nonbot_edits_pdf.groupby('is_relay')\n",
    "                   .agg({'cuc_this_oldid' : 'count'})\n",
    "                   .rename(columns = {'cuc_this_oldid' : 'num_edits'})\n",
    "                   .reset_index())"
   ]
  },
  {
   "cell_type": "code",
   "execution_count": 48,
   "id": "fff4113d",
   "metadata": {},
   "outputs": [
    {
     "data": {
      "text/html": [
       "<div>\n",
       "<style scoped>\n",
       "    .dataframe tbody tr th:only-of-type {\n",
       "        vertical-align: middle;\n",
       "    }\n",
       "\n",
       "    .dataframe tbody tr th {\n",
       "        vertical-align: top;\n",
       "    }\n",
       "\n",
       "    .dataframe thead th {\n",
       "        text-align: right;\n",
       "    }\n",
       "</style>\n",
       "<table border=\"1\" class=\"dataframe\">\n",
       "  <thead>\n",
       "    <tr style=\"text-align: right;\">\n",
       "      <th></th>\n",
       "      <th>is_relay</th>\n",
       "      <th>num_edits</th>\n",
       "    </tr>\n",
       "  </thead>\n",
       "  <tbody>\n",
       "    <tr>\n",
       "      <th>0</th>\n",
       "      <td>False</td>\n",
       "      <td>34777</td>\n",
       "    </tr>\n",
       "    <tr>\n",
       "      <th>1</th>\n",
       "      <td>True</td>\n",
       "      <td>53</td>\n",
       "    </tr>\n",
       "  </tbody>\n",
       "</table>\n",
       "</div>"
      ],
      "text/plain": [
       "   is_relay  num_edits\n",
       "0     False      34777\n",
       "1      True         53"
      ]
     },
     "execution_count": 48,
     "metadata": {},
     "output_type": "execute_result"
    }
   ],
   "source": [
    "ios15_edits_agg"
   ]
  },
  {
   "cell_type": "markdown",
   "id": "4d677f76",
   "metadata": {},
   "source": [
    "## iOS 15 Pageviews\n",
    "\n",
    "We'll pull data from `wmf.pageview_actor` to count the number of pageviews made using iOS 15 and again label them depending on whether they were made through the relay or not."
   ]
  },
  {
   "cell_type": "code",
   "execution_count": 38,
   "id": "7ac679da",
   "metadata": {},
   "outputs": [],
   "source": [
    "viewers_data = (\n",
    "    spark_session.read.table(\"wmf.pageview_actor\")\n",
    "\n",
    "    .where(F.col(\"year\") == 2021)\n",
    "    .where(F.col(\"month\") == 9)\n",
    "    .where(F.col(\"day\") >= 20)\n",
    "\n",
    "    # only user pageview traffic\n",
    "    .where(F.col(\"agent_type\") == 'user')\n",
    "    .where(F.col(\"is_pageview\") == True)\n",
    "\n",
    "    # exclude mobile app -- private relay does not affect it\n",
    "    .where(F.col(\"access_method\") != 'mobile app')\n",
    "\n",
    "    # only iOS 15 devices\n",
    "    .where(F.col(\"user_agent_map.os_family\") == 'iOS')\n",
    "    .where(F.col(\"user_agent_map.os_major\") == '15')\n",
    "\n",
    ")\n",
    "viewers_data_is_relay = spark_session.createDataFrame(\n",
    "    viewers_data.rdd.map(lambda r: T.Row(\n",
    "        log_date = dt.date(r.year, r.month, r.day),\n",
    "        project = \"{}.{}\".format(r.normalized_host.project, r.normalized_host.project_family),\n",
    "        is_relay = is_ip_private_relay(r.ip)\n",
    "    ))\n",
    ")\n",
    "\n",
    "agg_viewer_data_by_relay = (\n",
    "    viewers_data_is_relay\n",
    "    .groupBy(\"is_relay\")\n",
    "    .agg(F.count(\"*\").alias(\"num_views\"))\n",
    ")"
   ]
  },
  {
   "cell_type": "code",
   "execution_count": null,
   "id": "5a1bfbc7",
   "metadata": {},
   "outputs": [],
   "source": [
    "agg_viewers_by_relay_pdf = agg_viewer_data_by_relay.toPandas()"
   ]
  },
  {
   "cell_type": "code",
   "execution_count": 42,
   "id": "8d5ae513",
   "metadata": {},
   "outputs": [
    {
     "data": {
      "text/html": [
       "<div>\n",
       "<style scoped>\n",
       "    .dataframe tbody tr th:only-of-type {\n",
       "        vertical-align: middle;\n",
       "    }\n",
       "\n",
       "    .dataframe tbody tr th {\n",
       "        vertical-align: top;\n",
       "    }\n",
       "\n",
       "    .dataframe thead th {\n",
       "        text-align: right;\n",
       "    }\n",
       "</style>\n",
       "<table border=\"1\" class=\"dataframe\">\n",
       "  <thead>\n",
       "    <tr style=\"text-align: right;\">\n",
       "      <th></th>\n",
       "      <th>is_relay</th>\n",
       "      <th>num_views</th>\n",
       "    </tr>\n",
       "  </thead>\n",
       "  <tbody>\n",
       "    <tr>\n",
       "      <th>0</th>\n",
       "      <td>False</td>\n",
       "      <td>144350871</td>\n",
       "    </tr>\n",
       "    <tr>\n",
       "      <th>1</th>\n",
       "      <td>True</td>\n",
       "      <td>5705764</td>\n",
       "    </tr>\n",
       "  </tbody>\n",
       "</table>\n",
       "</div>"
      ],
      "text/plain": [
       "   is_relay  num_views\n",
       "0     False  144350871\n",
       "1      True    5705764"
      ]
     },
     "execution_count": 42,
     "metadata": {},
     "output_type": "execute_result"
    }
   ],
   "source": [
    "agg_viewers_by_relay_pdf"
   ]
  },
  {
   "cell_type": "markdown",
   "id": "80dc5b10",
   "metadata": {},
   "source": [
    "## Probability of Editing"
   ]
  },
  {
   "cell_type": "code",
   "execution_count": 49,
   "id": "c5dd47ca",
   "metadata": {},
   "outputs": [],
   "source": [
    "views_edits_pdf = agg_viewers_by_relay_pdf.merge(ios15_edits_agg, on = 'is_relay')"
   ]
  },
  {
   "cell_type": "code",
   "execution_count": 50,
   "id": "4a6f06a2",
   "metadata": {},
   "outputs": [
    {
     "data": {
      "text/html": [
       "<div>\n",
       "<style scoped>\n",
       "    .dataframe tbody tr th:only-of-type {\n",
       "        vertical-align: middle;\n",
       "    }\n",
       "\n",
       "    .dataframe tbody tr th {\n",
       "        vertical-align: top;\n",
       "    }\n",
       "\n",
       "    .dataframe thead th {\n",
       "        text-align: right;\n",
       "    }\n",
       "</style>\n",
       "<table border=\"1\" class=\"dataframe\">\n",
       "  <thead>\n",
       "    <tr style=\"text-align: right;\">\n",
       "      <th></th>\n",
       "      <th>is_relay</th>\n",
       "      <th>num_views</th>\n",
       "      <th>num_edits</th>\n",
       "    </tr>\n",
       "  </thead>\n",
       "  <tbody>\n",
       "    <tr>\n",
       "      <th>0</th>\n",
       "      <td>False</td>\n",
       "      <td>144350871</td>\n",
       "      <td>34777</td>\n",
       "    </tr>\n",
       "    <tr>\n",
       "      <th>1</th>\n",
       "      <td>True</td>\n",
       "      <td>5705764</td>\n",
       "      <td>53</td>\n",
       "    </tr>\n",
       "  </tbody>\n",
       "</table>\n",
       "</div>"
      ],
      "text/plain": [
       "   is_relay  num_views  num_edits\n",
       "0     False  144350871      34777\n",
       "1      True    5705764         53"
      ]
     },
     "execution_count": 50,
     "metadata": {},
     "output_type": "execute_result"
    }
   ],
   "source": [
    "views_edits_pdf"
   ]
  },
  {
   "cell_type": "code",
   "execution_count": 51,
   "id": "332b196a",
   "metadata": {},
   "outputs": [],
   "source": [
    "views_edits_pdf['prob_editing'] = views_edits_pdf['num_edits'] / views_edits_pdf['num_views']"
   ]
  },
  {
   "cell_type": "code",
   "execution_count": 52,
   "id": "a3be3b09",
   "metadata": {},
   "outputs": [
    {
     "data": {
      "text/html": [
       "<div>\n",
       "<style scoped>\n",
       "    .dataframe tbody tr th:only-of-type {\n",
       "        vertical-align: middle;\n",
       "    }\n",
       "\n",
       "    .dataframe tbody tr th {\n",
       "        vertical-align: top;\n",
       "    }\n",
       "\n",
       "    .dataframe thead th {\n",
       "        text-align: right;\n",
       "    }\n",
       "</style>\n",
       "<table border=\"1\" class=\"dataframe\">\n",
       "  <thead>\n",
       "    <tr style=\"text-align: right;\">\n",
       "      <th></th>\n",
       "      <th>is_relay</th>\n",
       "      <th>num_views</th>\n",
       "      <th>num_edits</th>\n",
       "      <th>prob_editing</th>\n",
       "    </tr>\n",
       "  </thead>\n",
       "  <tbody>\n",
       "    <tr>\n",
       "      <th>0</th>\n",
       "      <td>False</td>\n",
       "      <td>144350871</td>\n",
       "      <td>34777</td>\n",
       "      <td>0.000241</td>\n",
       "    </tr>\n",
       "    <tr>\n",
       "      <th>1</th>\n",
       "      <td>True</td>\n",
       "      <td>5705764</td>\n",
       "      <td>53</td>\n",
       "      <td>0.000009</td>\n",
       "    </tr>\n",
       "  </tbody>\n",
       "</table>\n",
       "</div>"
      ],
      "text/plain": [
       "   is_relay  num_views  num_edits  prob_editing\n",
       "0     False  144350871      34777      0.000241\n",
       "1      True    5705764         53      0.000009"
      ]
     },
     "execution_count": 52,
     "metadata": {},
     "output_type": "execute_result"
    }
   ],
   "source": [
    "views_edits_pdf"
   ]
  },
  {
   "cell_type": "markdown",
   "id": "dc026e29",
   "metadata": {},
   "source": [
    "It's clear that the probability of saving an edit when not on the relay is *much* higher. Let's start by adding standard errors to those estimates."
   ]
  },
  {
   "cell_type": "code",
   "execution_count": 95,
   "id": "355477d1",
   "metadata": {},
   "outputs": [],
   "source": [
    "views_edits_pdf['SE'] = np.sqrt(\n",
    "    views_edits_pdf['prob_editing'] * (1 - views_edits_pdf['prob_editing']) /\n",
    "    views_edits_pdf['num_views'])"
   ]
  },
  {
   "cell_type": "code",
   "execution_count": 97,
   "id": "ceb11d06",
   "metadata": {},
   "outputs": [],
   "source": [
    "views_edits_pdf['prob_high'] = views_edits_pdf['prob_editing'] + views_edits_pdf['SE']\n",
    "views_edits_pdf['prob_low'] = views_edits_pdf['prob_editing'] - views_edits_pdf['SE']"
   ]
  },
  {
   "cell_type": "code",
   "execution_count": 98,
   "id": "64a695bc",
   "metadata": {},
   "outputs": [
    {
     "data": {
      "text/html": [
       "<div>\n",
       "<style scoped>\n",
       "    .dataframe tbody tr th:only-of-type {\n",
       "        vertical-align: middle;\n",
       "    }\n",
       "\n",
       "    .dataframe tbody tr th {\n",
       "        vertical-align: top;\n",
       "    }\n",
       "\n",
       "    .dataframe thead th {\n",
       "        text-align: right;\n",
       "    }\n",
       "</style>\n",
       "<table border=\"1\" class=\"dataframe\">\n",
       "  <thead>\n",
       "    <tr style=\"text-align: right;\">\n",
       "      <th></th>\n",
       "      <th>is_relay</th>\n",
       "      <th>num_views</th>\n",
       "      <th>num_edits</th>\n",
       "      <th>prob_editing</th>\n",
       "      <th>expected_edits</th>\n",
       "      <th>SE</th>\n",
       "      <th>prob_high</th>\n",
       "      <th>prob_low</th>\n",
       "      <th>expected_high</th>\n",
       "      <th>expected_low</th>\n",
       "    </tr>\n",
       "  </thead>\n",
       "  <tbody>\n",
       "    <tr>\n",
       "      <th>0</th>\n",
       "      <td>False</td>\n",
       "      <td>144350871</td>\n",
       "      <td>34777</td>\n",
       "      <td>0.000241</td>\n",
       "      <td>0.000000</td>\n",
       "      <td>0.000001</td>\n",
       "      <td>0.000242</td>\n",
       "      <td>0.000240</td>\n",
       "      <td>34963.463459</td>\n",
       "      <td>34590.536541</td>\n",
       "    </tr>\n",
       "    <tr>\n",
       "      <th>1</th>\n",
       "      <td>True</td>\n",
       "      <td>5705764</td>\n",
       "      <td>53</td>\n",
       "      <td>0.000009</td>\n",
       "      <td>1374.632195</td>\n",
       "      <td>0.000001</td>\n",
       "      <td>0.000011</td>\n",
       "      <td>0.000008</td>\n",
       "      <td>60.280076</td>\n",
       "      <td>45.719924</td>\n",
       "    </tr>\n",
       "  </tbody>\n",
       "</table>\n",
       "</div>"
      ],
      "text/plain": [
       "   is_relay  num_views  num_edits  prob_editing  expected_edits        SE  \\\n",
       "0     False  144350871      34777      0.000241        0.000000  0.000001   \n",
       "1      True    5705764         53      0.000009     1374.632195  0.000001   \n",
       "\n",
       "   prob_high  prob_low  expected_high  expected_low  \n",
       "0   0.000242  0.000240   34963.463459  34590.536541  \n",
       "1   0.000011  0.000008      60.280076     45.719924  "
      ]
     },
     "execution_count": 98,
     "metadata": {},
     "output_type": "execute_result"
    }
   ],
   "source": [
    "views_edits_pdf"
   ]
  },
  {
   "cell_type": "markdown",
   "id": "04bd50f7",
   "metadata": {},
   "source": [
    "Now, let's calculate expected edits based on the probabilities."
   ]
  },
  {
   "cell_type": "code",
   "execution_count": 99,
   "id": "727ad343",
   "metadata": {},
   "outputs": [],
   "source": [
    "views_edits_pdf['expected_high'] = views_edits_pdf['num_views'] * views_edits_pdf['prob_high']\n",
    "views_edits_pdf['expected_low'] = views_edits_pdf['num_views'] * views_edits_pdf['prob_low']"
   ]
  },
  {
   "cell_type": "code",
   "execution_count": 100,
   "id": "3081a612",
   "metadata": {},
   "outputs": [
    {
     "data": {
      "text/html": [
       "<div>\n",
       "<style scoped>\n",
       "    .dataframe tbody tr th:only-of-type {\n",
       "        vertical-align: middle;\n",
       "    }\n",
       "\n",
       "    .dataframe tbody tr th {\n",
       "        vertical-align: top;\n",
       "    }\n",
       "\n",
       "    .dataframe thead th {\n",
       "        text-align: right;\n",
       "    }\n",
       "</style>\n",
       "<table border=\"1\" class=\"dataframe\">\n",
       "  <thead>\n",
       "    <tr style=\"text-align: right;\">\n",
       "      <th></th>\n",
       "      <th>is_relay</th>\n",
       "      <th>num_views</th>\n",
       "      <th>num_edits</th>\n",
       "      <th>prob_editing</th>\n",
       "      <th>expected_edits</th>\n",
       "      <th>SE</th>\n",
       "      <th>prob_high</th>\n",
       "      <th>prob_low</th>\n",
       "      <th>expected_high</th>\n",
       "      <th>expected_low</th>\n",
       "    </tr>\n",
       "  </thead>\n",
       "  <tbody>\n",
       "    <tr>\n",
       "      <th>0</th>\n",
       "      <td>False</td>\n",
       "      <td>144350871</td>\n",
       "      <td>34777</td>\n",
       "      <td>0.000241</td>\n",
       "      <td>0.000000</td>\n",
       "      <td>0.000001</td>\n",
       "      <td>0.000242</td>\n",
       "      <td>0.000240</td>\n",
       "      <td>34963.463459</td>\n",
       "      <td>34590.536541</td>\n",
       "    </tr>\n",
       "    <tr>\n",
       "      <th>1</th>\n",
       "      <td>True</td>\n",
       "      <td>5705764</td>\n",
       "      <td>53</td>\n",
       "      <td>0.000009</td>\n",
       "      <td>1374.632195</td>\n",
       "      <td>0.000001</td>\n",
       "      <td>0.000011</td>\n",
       "      <td>0.000008</td>\n",
       "      <td>60.280076</td>\n",
       "      <td>45.719924</td>\n",
       "    </tr>\n",
       "  </tbody>\n",
       "</table>\n",
       "</div>"
      ],
      "text/plain": [
       "   is_relay  num_views  num_edits  prob_editing  expected_edits        SE  \\\n",
       "0     False  144350871      34777      0.000241        0.000000  0.000001   \n",
       "1      True    5705764         53      0.000009     1374.632195  0.000001   \n",
       "\n",
       "   prob_high  prob_low  expected_high  expected_low  \n",
       "0   0.000242  0.000240   34963.463459  34590.536541  \n",
       "1   0.000011  0.000008      60.280076     45.719924  "
      ]
     },
     "execution_count": 100,
     "metadata": {},
     "output_type": "execute_result"
    }
   ],
   "source": [
    "views_edits_pdf"
   ]
  },
  {
   "cell_type": "code",
   "execution_count": 53,
   "id": "ca5a6923",
   "metadata": {},
   "outputs": [],
   "source": [
    "views_edits_pdf['expected_edits'] = 0"
   ]
  },
  {
   "cell_type": "code",
   "execution_count": 101,
   "id": "6ea3d19c",
   "metadata": {},
   "outputs": [
    {
     "data": {
      "text/plain": [
       "0    240.919918\n",
       "1      9.288852\n",
       "Name: prob_editing, dtype: float64"
      ]
     },
     "execution_count": 101,
     "metadata": {},
     "output_type": "execute_result"
    }
   ],
   "source": [
    "views_edits_pdf['prob_editing'] * 1e6"
   ]
  },
  {
   "cell_type": "code",
   "execution_count": 102,
   "id": "31283afd",
   "metadata": {},
   "outputs": [
    {
     "data": {
      "text/plain": [
       "0    239.628180\n",
       "1      8.012936\n",
       "Name: prob_low, dtype: float64"
      ]
     },
     "execution_count": 102,
     "metadata": {},
     "output_type": "execute_result"
    }
   ],
   "source": [
    "views_edits_pdf['prob_low'] * 1e6"
   ]
  },
  {
   "cell_type": "code",
   "execution_count": 103,
   "id": "8b32d3ac",
   "metadata": {},
   "outputs": [
    {
     "data": {
      "text/plain": [
       "0    242.211656\n",
       "1     10.564769\n",
       "Name: prob_high, dtype: float64"
      ]
     },
     "execution_count": 103,
     "metadata": {},
     "output_type": "execute_result"
    }
   ],
   "source": [
    "views_edits_pdf['prob_high'] * 1e6"
   ]
  },
  {
   "cell_type": "markdown",
   "id": "88acb48b",
   "metadata": {},
   "source": [
    "Overall expected number of edits using the relay, using the non-relay probability:"
   ]
  },
  {
   "cell_type": "code",
   "execution_count": 105,
   "id": "ee88a600",
   "metadata": {},
   "outputs": [
    {
     "data": {
      "text/plain": [
       "1374.6321948275602"
      ]
     },
     "execution_count": 105,
     "metadata": {},
     "output_type": "execute_result"
    }
   ],
   "source": [
    "(views_edits_pdf.loc[views_edits_pdf['is_relay'] == True, 'num_views'].iloc[0] * \n",
    " views_edits_pdf.loc[views_edits_pdf['is_relay'] == False, 'prob_editing'].iloc[0])"
   ]
  },
  {
   "cell_type": "markdown",
   "id": "c68a83c4",
   "metadata": {},
   "source": [
    "Expected number of edits using the relay, using the non-relay probability + its SE:"
   ]
  },
  {
   "cell_type": "code",
   "execution_count": 106,
   "id": "90f931d8",
   "metadata": {},
   "outputs": [
    {
     "data": {
      "text/plain": [
       "1382.0025451696783"
      ]
     },
     "execution_count": 106,
     "metadata": {},
     "output_type": "execute_result"
    }
   ],
   "source": [
    "(views_edits_pdf.loc[views_edits_pdf['is_relay'] == True, 'num_views'].iloc[0] * \n",
    " views_edits_pdf.loc[views_edits_pdf['is_relay'] == False, 'prob_high'].iloc[0])"
   ]
  },
  {
   "cell_type": "code",
   "execution_count": 107,
   "id": "5142c170",
   "metadata": {},
   "outputs": [
    {
     "data": {
      "text/plain": [
       "1367.2618444854418"
      ]
     },
     "execution_count": 107,
     "metadata": {},
     "output_type": "execute_result"
    }
   ],
   "source": [
    "(views_edits_pdf.loc[views_edits_pdf['is_relay'] == True, 'num_views'].iloc[0] * \n",
    " views_edits_pdf.loc[views_edits_pdf['is_relay'] == False, 'prob_low'].iloc[0])"
   ]
  },
  {
   "cell_type": "code",
   "execution_count": 73,
   "id": "2134b1b2",
   "metadata": {},
   "outputs": [
    {
     "data": {
      "text/html": [
       "<div>\n",
       "<style scoped>\n",
       "    .dataframe tbody tr th:only-of-type {\n",
       "        vertical-align: middle;\n",
       "    }\n",
       "\n",
       "    .dataframe tbody tr th {\n",
       "        vertical-align: top;\n",
       "    }\n",
       "\n",
       "    .dataframe thead th {\n",
       "        text-align: right;\n",
       "    }\n",
       "</style>\n",
       "<table border=\"1\" class=\"dataframe\">\n",
       "  <thead>\n",
       "    <tr style=\"text-align: right;\">\n",
       "      <th></th>\n",
       "      <th>is_relay</th>\n",
       "      <th>num_views</th>\n",
       "      <th>num_edits</th>\n",
       "      <th>prob_editing</th>\n",
       "      <th>expected_edits</th>\n",
       "    </tr>\n",
       "  </thead>\n",
       "  <tbody>\n",
       "    <tr>\n",
       "      <th>0</th>\n",
       "      <td>False</td>\n",
       "      <td>144350871</td>\n",
       "      <td>34777</td>\n",
       "      <td>0.000241</td>\n",
       "      <td>0.000000</td>\n",
       "    </tr>\n",
       "    <tr>\n",
       "      <th>1</th>\n",
       "      <td>True</td>\n",
       "      <td>5705764</td>\n",
       "      <td>53</td>\n",
       "      <td>0.000009</td>\n",
       "      <td>1374.632195</td>\n",
       "    </tr>\n",
       "  </tbody>\n",
       "</table>\n",
       "</div>"
      ],
      "text/plain": [
       "   is_relay  num_views  num_edits  prob_editing  expected_edits\n",
       "0     False  144350871      34777      0.000241        0.000000\n",
       "1      True    5705764         53      0.000009     1374.632195"
      ]
     },
     "execution_count": 73,
     "metadata": {},
     "output_type": "execute_result"
    }
   ],
   "source": [
    "views_edits_pdf"
   ]
  },
  {
   "cell_type": "markdown",
   "id": "b136d2dd",
   "metadata": {},
   "source": [
    "Mean difference:"
   ]
  },
  {
   "cell_type": "code",
   "execution_count": 81,
   "id": "2f2d1cfa",
   "metadata": {},
   "outputs": [
    {
     "data": {
      "text/plain": [
       "1    1321.632195\n",
       "dtype: float64"
      ]
     },
     "execution_count": 81,
     "metadata": {},
     "output_type": "execute_result"
    }
   ],
   "source": [
    "(views_edits_pdf.loc[views_edits_pdf['is_relay'] == True, 'expected_edits'] -\n",
    " views_edits_pdf.loc[views_edits_pdf['is_relay'] == True, 'num_edits'])"
   ]
  },
  {
   "cell_type": "markdown",
   "id": "80dc44f2",
   "metadata": {},
   "source": []
  }
 ],
 "metadata": {
  "kernelspec": {
   "display_name": "Python 3",
   "language": "python",
   "name": "python3"
  },
  "language_info": {
   "codemirror_mode": {
    "name": "ipython",
    "version": 3
   },
   "file_extension": ".py",
   "mimetype": "text/x-python",
   "name": "python",
   "nbconvert_exporter": "python",
   "pygments_lexer": "ipython3",
   "version": "3.7.6"
  }
 },
 "nbformat": 4,
 "nbformat_minor": 5
}
